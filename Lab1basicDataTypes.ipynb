{
 "cells": [
  {
   "cell_type": "code",
   "execution_count": 1,
   "metadata": {},
   "outputs": [],
   "source": [
    "#Write a program to print Hello World"
   ]
  },
  {
   "cell_type": "code",
   "execution_count": 2,
   "metadata": {},
   "outputs": [
    {
     "name": "stdout",
     "output_type": "stream",
     "text": [
      "Hello World\n"
     ]
    }
   ],
   "source": [
    "print(\"Hello World\")"
   ]
  },
  {
   "cell_type": "code",
   "execution_count": 3,
   "metadata": {},
   "outputs": [],
   "source": [
    "#Write a program to calculate SI and CI"
   ]
  },
  {
   "cell_type": "code",
   "execution_count": 4,
   "metadata": {},
   "outputs": [
    {
     "name": "stdout",
     "output_type": "stream",
     "text": [
      "Enter Principle4\n",
      "Enter Rate20\n",
      "Enter Time2.5\n",
      "2.0\n"
     ]
    }
   ],
   "source": [
    "p = float(input(\"Enter Principle\"))\n",
    "\n",
    "r = float(input(\"Enter Rate\"))\n",
    "\n",
    "t = float(input(\"Enter Time\"))\n",
    "\n",
    "SI = (p*r*t)/100\n",
    "\n",
    "print(SI)"
   ]
  },
  {
   "cell_type": "code",
   "execution_count": 5,
   "metadata": {},
   "outputs": [],
   "source": [
    "#Write a program to calculate distance between two points taking input from the user"
   ]
  },
  {
   "cell_type": "code",
   "execution_count": 1,
   "metadata": {},
   "outputs": [
    {
     "name": "stdout",
     "output_type": "stream",
     "text": [
      "Enter principle30\n",
      "Enter miminal interest rate5\n",
      "Enter no. of times the interest is compounded2\n",
      "Enter np. of years2\n",
      "4501.875\n"
     ]
    }
   ],
   "source": [
    "p = int(input(\"Enter principle\"))\n",
    "\n",
    "r = int(input(\"Enter miminal interest rate\"))\n",
    "\n",
    "n = int(input(\"Enter no. of times the interest is compounded\"))\n",
    "\n",
    "t = int(input(\"Enter np. of years\"))\n",
    "\n",
    "CI = p*((1+(r/n))**(n*t))\n",
    "\n",
    "print(CI)"
   ]
  },
  {
   "cell_type": "code",
   "execution_count": 2,
   "metadata": {},
   "outputs": [],
   "source": [
    "#WAP to calculate distance between two points\n"
   ]
  },
  {
   "cell_type": "code",
   "execution_count": 1,
   "metadata": {},
   "outputs": [
    {
     "name": "stdout",
     "output_type": "stream",
     "text": [
      "Enter x120\n",
      "Enter y130\n",
      "Enter x250\n",
      "Enter y260\n",
      "42.42640687119285\n"
     ]
    }
   ],
   "source": [
    "import math as mt\n",
    "x1 = int(input(\"Enter x1\"))\n",
    "\n",
    "y1 = int(input(\"Enter y1\"))\n",
    "\n",
    "x2 = int(input(\"Enter x2\"))\n",
    "\n",
    "y2 = int(input(\"Enter y2\"))\n",
    "\n",
    "d = mt.sqrt(((x2 - x1)**2) + ((y2 - y1)**2))\n",
    "\n",
    "print(d)"
   ]
  },
  {
   "cell_type": "code",
   "execution_count": 4,
   "metadata": {},
   "outputs": [
    {
     "name": "stdout",
     "output_type": "stream",
     "text": [
      "Enter a number to be checked5\n",
      "Odd\n"
     ]
    }
   ],
   "source": [
    "#WAP to check if the number is even or odd\n",
    "\n",
    "n = int(input(\"Enter a number to be checked\"))\n",
    "\n",
    "if (n & 1) == n:\n",
    "    print(\"Even\")\n",
    "else:\n",
    "    print(\"Odd\")"
   ]
  },
  {
   "cell_type": "code",
   "execution_count": 6,
   "metadata": {},
   "outputs": [
    {
     "name": "stdout",
     "output_type": "stream",
     "text": [
      "Enter no to be checked5\n",
      "+ve\n"
     ]
    }
   ],
   "source": [
    "#WAP to check given no is positive, negative or zero\n",
    "\n",
    "n = int(input(\"Enter no to be checked\"))\n",
    "if n > 0:\n",
    "    print(\"+ve\")\n",
    "elif n < 0:\n",
    "    print(\"-ve\")\n",
    "else:\n",
    "    print(\"Zero\")"
   ]
  },
  {
   "cell_type": "code",
   "execution_count": 5,
   "metadata": {},
   "outputs": [
    {
     "name": "stdout",
     "output_type": "stream",
     "text": [
      "Enter the first number1\n",
      "Enter the second number5\n",
      "Enter the Third number9\n",
      "Th smallest and largest among three numbers are: 1 and 9\n"
     ]
    }
   ],
   "source": [
    "#WAP to find out largest and smallest of three numbers\n",
    "\n",
    "def largest(n1, n2, n3):\n",
    "    if n1 > n2:\n",
    "        if n1 > n3:\n",
    "            return n1\n",
    "        else:\n",
    "            return n3\n",
    "    else:\n",
    "        if(n2 > n3):\n",
    "            return n2\n",
    "        else:\n",
    "            return n3\n",
    "        \n",
    "def smallest(n1, n2, n3):\n",
    "    if n1 < n2:\n",
    "        if n1 < n3:\n",
    "            return n1\n",
    "        else:\n",
    "            return n3\n",
    "    else:\n",
    "        if(n2 < n3):\n",
    "            return n2\n",
    "        else:\n",
    "            return n3\n",
    "\n",
    "n1 = int(input(\"Enter the first number\"))\n",
    "\n",
    "n2 = int(input(\"Enter the second number\"))\n",
    "\n",
    "n3 = int(input(\"Enter the Third number\"))\n",
    "\n",
    "print(\"Th smallest and largest among three numbers are:\", smallest(n1, n2, n3), \"and\", largest(n1, n2, n3))"
   ]
  },
  {
   "cell_type": "code",
   "execution_count": 8,
   "metadata": {},
   "outputs": [
    {
     "name": "stdout",
     "output_type": "stream",
     "text": [
      "Enter first no.4\n",
      "Enter Second no.5\n",
      "first number is5 Second number is4\n"
     ]
    }
   ],
   "source": [
    "#WAp to swap two numbers\n",
    "\n",
    "k1 = int(input(\"Enter first no.\"))\n",
    "\n",
    "k2 = int(input(\"Enter Second no.\"))\n",
    "\n",
    "k1 = k1 ^ k2\n",
    "k2 = k1 ^ k2\n",
    "k1 = k1 ^ k2\n",
    "\n",
    "print(\"first number is\" + str(k1), \"Second number is\" + str(k2))"
   ]
  },
  {
   "cell_type": "code",
   "execution_count": 11,
   "metadata": {},
   "outputs": [
    {
     "name": "stdout",
     "output_type": "stream",
     "text": [
      "Enter year1997\n",
      "Not Leap\n"
     ]
    }
   ],
   "source": [
    "#WAP to check a year is leap or not\n",
    "\n",
    "year = int(input(\"Enter year\"))\n",
    "if year % 400 == 0:\n",
    "    print(\"Leap year\")\n",
    "else:\n",
    "    if (year % 4 == 0) and (year % 100 == 0):\n",
    "        print(\"Leap\")\n",
    "    else: \n",
    "        print(\"Not Leap\")\n",
    "        \n",
    "        "
   ]
  },
  {
   "cell_type": "code",
   "execution_count": 25,
   "metadata": {},
   "outputs": [
    {
     "name": "stdout",
     "output_type": "stream",
     "text": [
      "Enter a Characterh\n",
      "104\n"
     ]
    }
   ],
   "source": [
    "#WAP to print ASCII Value of character\n",
    "n1 = input(\"Enter a Character\")\n",
    "print(ord(n1))"
   ]
  },
  {
   "cell_type": "code",
   "execution_count": 11,
   "metadata": {},
   "outputs": [
    {
     "name": "stdout",
     "output_type": "stream",
     "text": [
      "Enter something45\n",
      "Variable is string\n"
     ]
    }
   ],
   "source": [
    "#WAP to check type of variable(int, float, complex, bool or str)\n",
    "#This can be done in two ways\n",
    "#Using isinstance function\n",
    "\n",
    "n = input(\"Enter something\")\n",
    "if isinstance(n, float):\n",
    "    print(\"Variable is float\")\n",
    "elif isinstance(n, str):\n",
    "    print(\"Variable is string\")\n",
    "elif isinstance(n, int):\n",
    "    print(\"Variable is integer\")\n",
    "else:\n",
    "    print(\"Variable is Unknown\")\n"
   ]
  },
  {
   "cell_type": "code",
   "execution_count": 10,
   "metadata": {},
   "outputs": [
    {
     "name": "stdout",
     "output_type": "stream",
     "text": [
      "Enter Something45\n",
      "Variable is string\n"
     ]
    }
   ],
   "source": [
    "#WAP to check type of variable(int, float, complex, bool or str)\n",
    "#Using type()\n",
    "n = input(\"Enter Something\")\n",
    "if type(n).__name__ == 'str' :\n",
    "    print(\"Variable is string\")\n",
    "elif type(n).__name__ == 'int' :\n",
    "    print(\"Variable is integer\")\n",
    "elif type(n).__name__ == 'float' :\n",
    "    print(\"Variable is float\")\n",
    "else:\n",
    "    print(\"Unknown datatype found\")"
   ]
  },
  {
   "cell_type": "code",
   "execution_count": 17,
   "metadata": {},
   "outputs": [
    {
     "ename": "ValueError",
     "evalue": "invalid literal for int() with base 10: '-f'",
     "output_type": "error",
     "traceback": [
      "\u001b[1;31m---------------------------------------------------------------------------\u001b[0m",
      "\u001b[1;31mValueError\u001b[0m                                Traceback (most recent call last)",
      "\u001b[1;32m<ipython-input-17-f3e281d650b1>\u001b[0m in \u001b[0;36m<module>\u001b[1;34m\u001b[0m\n\u001b[0;32m      1\u001b[0m \u001b[1;31m#WAP to enter 2 numbers as Command Line Argument and Print it’s sum\u001b[0m\u001b[1;33m\u001b[0m\u001b[1;33m\u001b[0m\u001b[1;33m\u001b[0m\u001b[0m\n\u001b[0;32m      2\u001b[0m \u001b[1;32mimport\u001b[0m \u001b[0msys\u001b[0m\u001b[1;33m\u001b[0m\u001b[1;33m\u001b[0m\u001b[0m\n\u001b[1;32m----> 3\u001b[1;33m \u001b[0ma\u001b[0m \u001b[1;33m=\u001b[0m \u001b[0mint\u001b[0m\u001b[1;33m(\u001b[0m\u001b[0msys\u001b[0m\u001b[1;33m.\u001b[0m\u001b[0margv\u001b[0m\u001b[1;33m[\u001b[0m\u001b[1;36m1\u001b[0m\u001b[1;33m]\u001b[0m\u001b[1;33m)\u001b[0m\u001b[1;33m\u001b[0m\u001b[1;33m\u001b[0m\u001b[0m\n\u001b[0m\u001b[0;32m      4\u001b[0m \u001b[0mb\u001b[0m \u001b[1;33m=\u001b[0m \u001b[0mint\u001b[0m\u001b[1;33m(\u001b[0m\u001b[0msys\u001b[0m\u001b[1;33m.\u001b[0m\u001b[0margv\u001b[0m\u001b[1;33m[\u001b[0m\u001b[1;36m2\u001b[0m\u001b[1;33m]\u001b[0m\u001b[1;33m)\u001b[0m\u001b[1;33m\u001b[0m\u001b[1;33m\u001b[0m\u001b[0m\n\u001b[0;32m      5\u001b[0m \u001b[0mc\u001b[0m \u001b[1;33m=\u001b[0m \u001b[0ma\u001b[0m \u001b[1;33m+\u001b[0m \u001b[0mb\u001b[0m\u001b[1;33m\u001b[0m\u001b[1;33m\u001b[0m\u001b[0m\n",
      "\u001b[1;31mValueError\u001b[0m: invalid literal for int() with base 10: '-f'"
     ]
    }
   ],
   "source": [
    "#WAP to enter 2 numbers as Command Line Argument and Print it’s sum\n",
    "import sys\n",
    "a = int(sys.argv[1])\n",
    "b = int(sys.argv[2])\n",
    "\n",
    "print(a+b)\n",
    "\n",
    "#python filename.py argument1 argument2\n"
   ]
  },
  {
   "cell_type": "code",
   "execution_count": 39,
   "metadata": {},
   "outputs": [
    {
     "name": "stdout",
     "output_type": "stream",
     "text": [
      "true\n"
     ]
    }
   ],
   "source": [
    "#WAP to check the given no is prime or not\n",
    "def isPrime(n):\n",
    "    if n <= 1: #Corner Case\n",
    "        return False\n",
    "    \n",
    "    for i in range(2,n): #Other cases\n",
    "        \n",
    "        if i % n == 0:\n",
    "            return False\n",
    "        \n",
    "    return True        \n",
    "        \n",
    "print(\"true\") if isPrime(11) else print(\"false\")\n",
    "        "
   ]
  },
  {
   "cell_type": "code",
   "execution_count": 38,
   "metadata": {},
   "outputs": [
    {
     "name": "stdout",
     "output_type": "stream",
     "text": [
      "Enter a number to be checked784\n",
      "Not Armstrong Number\n",
      "919 7\n"
     ]
    }
   ],
   "source": [
    "#WAP to check whether a given no is armstrong or not\n",
    "n = int(input(\"Enter a number to be checked\"))\n",
    "temp = n\n",
    "p = 0\n",
    "k = 0\n",
    "while n != 0:\n",
    "    k = int(n % 10)\n",
    "    p = int(p + (k * k * k))\n",
    "    n = int(n / 10)\n",
    "if temp == p:\n",
    "    print(\"It is an Armstrong Number\")\n",
    "    print(p)\n",
    "else:\n",
    "    print(\"Not Armstrong Number\")\n",
    "    print(p, k)"
   ]
  },
  {
   "cell_type": "code",
   "execution_count": 46,
   "metadata": {},
   "outputs": [
    {
     "name": "stdout",
     "output_type": "stream",
     "text": [
      "Enter a number to be checked151\n",
      "1\n",
      "15\n",
      "151\n",
      "This is a palindrome Number\n"
     ]
    }
   ],
   "source": [
    "#WAP to check whether a given no is palindrome or not\n",
    "n = int(input(\"Enter a number to be checked\"))\n",
    "temp = n\n",
    "rev = 0\n",
    "while n != 0:\n",
    "    k = int(n % 10)\n",
    "    rev = int((rev * 10) + k)\n",
    "    n = int(n / 10)\n",
    "\n",
    "if rev == temp:\n",
    "    print(\"This is a palindrome Number\")\n",
    "else:\n",
    "    print(\"This is not a palindrome number\")\n",
    "    print(rev, temp)\n",
    "    "
   ]
  },
  {
   "cell_type": "code",
   "execution_count": 50,
   "metadata": {},
   "outputs": [
    {
     "name": "stdout",
     "output_type": "stream",
     "text": [
      "Enter a number to be checked154\n",
      "Sum of the numbers = 10\n"
     ]
    }
   ],
   "source": [
    "#WAP to sum of digits of a number\n",
    "n = int(input(\"Enter a number to be checked\"))\n",
    "temp = n\n",
    "sum = 0\n",
    "k = 0\n",
    "while n != 0:\n",
    "    k = int(n % 10)\n",
    "    sum = int(sum + k)\n",
    "    n = int(n / 10)\n",
    "print(\"Sum of the numbers =\", sum)"
   ]
  },
  {
   "cell_type": "code",
   "execution_count": 54,
   "metadata": {},
   "outputs": [
    {
     "name": "stdout",
     "output_type": "stream",
     "text": [
      "Enter n: 5\n",
      " 0\n",
      " 1\n",
      " 2\n",
      " 3\n",
      " 5\n"
     ]
    }
   ],
   "source": [
    "#WAP to print fibonacci series upto number n\n",
    "n = int(input(\"Enter n: \"))\n",
    "a = 1\n",
    "b = 1\n",
    "for i in range(0, n):\n",
    "    if i <= 1:\n",
    "        print(\"\", i)\n",
    "    else:\n",
    "        c = a + b\n",
    "        print(\"\", c)\n",
    "        a = b\n",
    "        b = c\n",
    "        "
   ]
  },
  {
   "cell_type": "code",
   "execution_count": 56,
   "metadata": {},
   "outputs": [
    {
     "name": "stdout",
     "output_type": "stream",
     "text": [
      "Enter the number to calculate its factorial5\n",
      "Factorial of 5 is 120\n"
     ]
    }
   ],
   "source": [
    "#WAP to find factorial of Number N\n",
    "def fact(n):\n",
    "    if n <= 1:\n",
    "        return 1\n",
    "    else:\n",
    "        return n * fact(n-1)\n",
    "    \n",
    "n = int(input(\"Enter the number to calculate its factorial\"))\n",
    "print(\"Factorial of\", n, \"is\", fact(n))"
   ]
  },
  {
   "cell_type": "code",
   "execution_count": 58,
   "metadata": {},
   "outputs": [
    {
     "name": "stdout",
     "output_type": "stream",
     "text": [
      "Enter n: 3\n",
      "Sum of cubes of natural number upto 3 : 36\n"
     ]
    }
   ],
   "source": [
    "#WAP to print sum of cubes of first n natural number\n",
    "def printCubeSum(n):\n",
    "    sum = 0\n",
    "    for i in range(1, n + 1):\n",
    "        sum = i**3 + sum\n",
    "    return sum\n",
    "\n",
    "n = int(input(\"Enter n: \"))\n",
    "print(\"Sum of cubes of natural number upto\", n, \":\", printCubeSum(n))"
   ]
  },
  {
   "cell_type": "code",
   "execution_count": 63,
   "metadata": {},
   "outputs": [
    {
     "name": "stdout",
     "output_type": "stream",
     "text": [
      "Enter the range of n: 5\n",
      "The sum of odd and even numbers upto 5 are 6 and 9\n"
     ]
    }
   ],
   "source": [
    "#19. WAP to find sum of even and odd numbers upto N\n",
    "def evenOdd(n):\n",
    "    even = 0\n",
    "    odd = 0\n",
    "    for i in range(0, n+1):\n",
    "        if i % 2 == 0:\n",
    "            even += i\n",
    "        else:\n",
    "            odd += i\n",
    "    return (even, odd)\n",
    "n = int(input(\"Enter the range of n: \"))\n",
    "odd, even = evenOdd(n)\n",
    "print(\"The sum of odd and even numbers upto\", n, \"are\", odd,\"and\", even)"
   ]
  },
  {
   "cell_type": "code",
   "execution_count": 4,
   "metadata": {},
   "outputs": [
    {
     "name": "stdout",
     "output_type": "stream",
     "text": [
      "Enter the first number: 5\n",
      "Enter the second number: 2\n",
      " Enter 1 for +\n",
      " Enter 2 for -\n",
      " Enter 3 for *\n",
      " Enter 4 for /\n",
      "Enter the Operation to be performed: 4\n",
      "The output is 2.5\n"
     ]
    }
   ],
   "source": [
    "#WAP to make a calculator of all arithmetic operators\n",
    "def calculator(a, b, operation):\n",
    "    if(operation == 1):\n",
    "        return a+b\n",
    "    elif(operation == 2):\n",
    "        return a-b\n",
    "    elif(operation == 3):\n",
    "        return a*b\n",
    "    elif(operation == 4):\n",
    "        return a/b\n",
    "\n",
    "#print(\"Enter two numbers\")\n",
    "n1 = int(input(\"Enter the first number: \"))\n",
    "n2 = int(input(\"Enter the second number: \"))\n",
    "print(\" Enter 1 for +\\n\",\"Enter 2 for -\\n\", \"Enter 3 for *\\n\", \"Enter 4 for /\")\n",
    "operation = int(input(\"Enter the Operation to be performed: \"))\n",
    "print(\"The output is\", calculator(n1, n2, operation))"
   ]
  },
  {
   "cell_type": "code",
   "execution_count": null,
   "metadata": {},
   "outputs": [],
   "source": []
  }
 ],
 "metadata": {
  "kernelspec": {
   "display_name": "Python 3",
   "language": "python",
   "name": "python3"
  },
  "language_info": {
   "codemirror_mode": {
    "name": "ipython",
    "version": 3
   },
   "file_extension": ".py",
   "mimetype": "text/x-python",
   "name": "python",
   "nbconvert_exporter": "python",
   "pygments_lexer": "ipython3",
   "version": "3.7.6"
  }
 },
 "nbformat": 4,
 "nbformat_minor": 4
}
